{
  "cells": [
    {
      "attachments": {},
      "cell_type": "markdown",
      "metadata": {
        "id": "LbmlY9DTKzm1"
      },
      "source": [
        "# Diving Deeper into Weights & Biases\n",
        "\n",
        "<!--- @wandbcode{mlops-zoomcamp} -->\n",
        "\n",
        "In this notebook, we will explore the following\n",
        "\n",
        "* Versioning datasets using [Artifacts](https://docs.wandb.ai/guides/artifacts).\n",
        "* Exploring and visualizing our datasets with [Tables](https://docs.wandb.ai/guides/data-vis).\n",
        "* Baseline Experiment with a Random Forest Classification Model."
      ]
    },
    {
      "attachments": {},
      "cell_type": "markdown",
      "metadata": {
        "id": "B4RidTasKzm4"
      },
      "source": [
        "## Import the Libraries"
      ]
    },
    {
      "cell_type": "code",
      "execution_count": 2,
      "metadata": {
        "id": "SN7SrTzyKzm4"
      },
      "outputs": [],
      "source": [
        "import os\n",
        "import pickle\n",
        "\n",
        "import wandb\n",
        "import pandas as pd\n",
        "\n",
        "from sklearn.ensemble import RandomForestClassifier\n",
        "from sklearn.metrics import accuracy_score, f1_score, precision_score, recall_score"
      ]
    },
    {
      "attachments": {},
      "cell_type": "markdown",
      "metadata": {
        "id": "FhVG7yT3Kzm5"
      },
      "source": [
        "## Logging Dataset to Artifacts"
      ]
    },
    {
      "attachments": {},
      "cell_type": "markdown",
      "metadata": {
        "id": "omuofy_7Kzm6"
      },
      "source": [
        "Download the `train.csv` and `test.csv` files from [Titanic - Machine Learning from Disaster](https://www.kaggle.com/competitions/titanic/data) and place them in the `data` directory."
      ]
    },
    {
      "cell_type": "code",
      "execution_count": 2,
      "metadata": {
        "id": "7JYOjow9Kzm6"
      },
      "outputs": [
        {
          "name": "stderr",
          "output_type": "stream",
          "text": [
            "Failed to detect the name of this notebook, you can set it manually with the WANDB_NOTEBOOK_NAME environment variable to enable code saving.\n",
            "\u001b[34m\u001b[1mwandb\u001b[0m: Currently logged in as: \u001b[33mmichael945angelo\u001b[0m (\u001b[33mninjaturtles\u001b[0m). Use \u001b[1m`wandb login --relogin`\u001b[0m to force relogin\n"
          ]
        },
        {
          "data": {
            "text/html": [
              "Tracking run with wandb version 0.15.3"
            ],
            "text/plain": [
              "<IPython.core.display.HTML object>"
            ]
          },
          "metadata": {},
          "output_type": "display_data"
        },
        {
          "data": {
            "text/html": [
              "Run data is saved locally in <code>/home/singh/mlops-zoomcamp-2023/02-experiment-tracking/WandbTraining/wandb/run-20230604_011540-d5xgid7k</code>"
            ],
            "text/plain": [
              "<IPython.core.display.HTML object>"
            ]
          },
          "metadata": {},
          "output_type": "display_data"
        },
        {
          "data": {
            "text/html": [
              "Syncing run <strong><a href='https://wandb.ai/ninjaturtles/mlops-zoomcamp-wandb/runs/d5xgid7k' target=\"_blank\">firm-salad-5</a></strong> to <a href='https://wandb.ai/ninjaturtles/mlops-zoomcamp-wandb' target=\"_blank\">Weights & Biases</a> (<a href='https://wandb.me/run' target=\"_blank\">docs</a>)<br/>"
            ],
            "text/plain": [
              "<IPython.core.display.HTML object>"
            ]
          },
          "metadata": {},
          "output_type": "display_data"
        },
        {
          "data": {
            "text/html": [
              " View project at <a href='https://wandb.ai/ninjaturtles/mlops-zoomcamp-wandb' target=\"_blank\">https://wandb.ai/ninjaturtles/mlops-zoomcamp-wandb</a>"
            ],
            "text/plain": [
              "<IPython.core.display.HTML object>"
            ]
          },
          "metadata": {},
          "output_type": "display_data"
        },
        {
          "data": {
            "text/html": [
              " View run at <a href='https://wandb.ai/ninjaturtles/mlops-zoomcamp-wandb/runs/d5xgid7k' target=\"_blank\">https://wandb.ai/ninjaturtles/mlops-zoomcamp-wandb/runs/d5xgid7k</a>"
            ],
            "text/plain": [
              "<IPython.core.display.HTML object>"
            ]
          },
          "metadata": {},
          "output_type": "display_data"
        },
        {
          "name": "stderr",
          "output_type": "stream",
          "text": [
            "\u001b[34m\u001b[1mwandb\u001b[0m: Adding directory to artifact (./data)... Done. 0.0s\n"
          ]
        },
        {
          "data": {
            "text/html": [
              "Waiting for W&B process to finish... <strong style=\"color:green\">(success).</strong>"
            ],
            "text/plain": [
              "<IPython.core.display.HTML object>"
            ]
          },
          "metadata": {},
          "output_type": "display_data"
        },
        {
          "data": {
            "text/html": [
              " View run <strong style=\"color:#cdcd00\">firm-salad-5</strong> at: <a href='https://wandb.ai/ninjaturtles/mlops-zoomcamp-wandb/runs/d5xgid7k' target=\"_blank\">https://wandb.ai/ninjaturtles/mlops-zoomcamp-wandb/runs/d5xgid7k</a><br/>Synced 6 W&B file(s), 0 media file(s), 3 artifact file(s) and 0 other file(s)"
            ],
            "text/plain": [
              "<IPython.core.display.HTML object>"
            ]
          },
          "metadata": {},
          "output_type": "display_data"
        },
        {
          "data": {
            "text/html": [
              "Find logs at: <code>./wandb/run-20230604_011540-d5xgid7k/logs</code>"
            ],
            "text/plain": [
              "<IPython.core.display.HTML object>"
            ]
          },
          "metadata": {},
          "output_type": "display_data"
        }
      ],
      "source": [
        "# Initialize a WandB Run\n",
        "wandb.init(project=\"mlops-zoomcamp-wandb\", job_type=\"log_data\")\n",
        "\n",
        "# Log the `data` directory as an artifact\n",
        "artifact = wandb.Artifact('Titanic', type='dataset', metadata={\"Source\": \"https://www.kaggle.com/competitions/titanic/data\"})\n",
        "artifact.add_dir('data')\n",
        "wandb.log_artifact(artifact)\n",
        "\n",
        "# End the WandB Run\n",
        "wandb.finish()"
      ]
    },
    {
      "attachments": {},
      "cell_type": "markdown",
      "metadata": {
        "id": "pMFlOB9yKzm6"
      },
      "source": [
        "## Versioning the Data"
      ]
    },
    {
      "cell_type": "code",
      "execution_count": 3,
      "metadata": {
        "id": "F-DZ5MLGKzm6"
      },
      "outputs": [
        {
          "data": {
            "text/html": [
              "Finishing last run (ID:6ht6cayw) before initializing another..."
            ],
            "text/plain": [
              "<IPython.core.display.HTML object>"
            ]
          },
          "metadata": {},
          "output_type": "display_data"
        },
        {
          "data": {
            "text/html": [
              "Waiting for W&B process to finish... <strong style=\"color:green\">(success).</strong>"
            ],
            "text/plain": [
              "<IPython.core.display.HTML object>"
            ]
          },
          "metadata": {},
          "output_type": "display_data"
        },
        {
          "data": {
            "text/html": [
              " View run <strong style=\"color:#cdcd00\">glad-sponge-7</strong> at: <a href='https://wandb.ai/ninjaturtles/mlops-zoomcamp-wandb/runs/6ht6cayw' target=\"_blank\">https://wandb.ai/ninjaturtles/mlops-zoomcamp-wandb/runs/6ht6cayw</a><br/>Synced 5 W&B file(s), 0 media file(s), 0 artifact file(s) and 0 other file(s)"
            ],
            "text/plain": [
              "<IPython.core.display.HTML object>"
            ]
          },
          "metadata": {},
          "output_type": "display_data"
        },
        {
          "data": {
            "text/html": [
              "Find logs at: <code>./wandb/run-20230604_012500-6ht6cayw/logs</code>"
            ],
            "text/plain": [
              "<IPython.core.display.HTML object>"
            ]
          },
          "metadata": {},
          "output_type": "display_data"
        },
        {
          "data": {
            "text/html": [
              "Successfully finished last run (ID:6ht6cayw). Initializing new run:<br/>"
            ],
            "text/plain": [
              "<IPython.core.display.HTML object>"
            ]
          },
          "metadata": {},
          "output_type": "display_data"
        },
        {
          "data": {
            "text/html": [
              "Tracking run with wandb version 0.15.3"
            ],
            "text/plain": [
              "<IPython.core.display.HTML object>"
            ]
          },
          "metadata": {},
          "output_type": "display_data"
        },
        {
          "data": {
            "text/html": [
              "Run data is saved locally in <code>/home/singh/mlops-zoomcamp-2023/02-experiment-tracking/WandbTraining/wandb/run-20230604_012513-zfmfyurp</code>"
            ],
            "text/plain": [
              "<IPython.core.display.HTML object>"
            ]
          },
          "metadata": {},
          "output_type": "display_data"
        },
        {
          "data": {
            "text/html": [
              "Syncing run <strong><a href='https://wandb.ai/ninjaturtles/mlops-zoomcamp-wandb/runs/zfmfyurp' target=\"_blank\">hearty-eon-8</a></strong> to <a href='https://wandb.ai/ninjaturtles/mlops-zoomcamp-wandb' target=\"_blank\">Weights & Biases</a> (<a href='https://wandb.me/run' target=\"_blank\">docs</a>)<br/>"
            ],
            "text/plain": [
              "<IPython.core.display.HTML object>"
            ]
          },
          "metadata": {},
          "output_type": "display_data"
        },
        {
          "data": {
            "text/html": [
              " View project at <a href='https://wandb.ai/ninjaturtles/mlops-zoomcamp-wandb' target=\"_blank\">https://wandb.ai/ninjaturtles/mlops-zoomcamp-wandb</a>"
            ],
            "text/plain": [
              "<IPython.core.display.HTML object>"
            ]
          },
          "metadata": {},
          "output_type": "display_data"
        },
        {
          "data": {
            "text/html": [
              " View run at <a href='https://wandb.ai/ninjaturtles/mlops-zoomcamp-wandb/runs/zfmfyurp' target=\"_blank\">https://wandb.ai/ninjaturtles/mlops-zoomcamp-wandb/runs/zfmfyurp</a>"
            ],
            "text/plain": [
              "<IPython.core.display.HTML object>"
            ]
          },
          "metadata": {},
          "output_type": "display_data"
        },
        {
          "name": "stderr",
          "output_type": "stream",
          "text": [
            "\u001b[34m\u001b[1mwandb\u001b[0m:   3 of 3 files downloaded.  \n"
          ]
        }
      ],
      "source": [
        "# Initialize a WandB Run\n",
        "run = wandb.init(project=\"mlops-zoomcamp-wandb\", job_type=\"log_data\")\n",
        "\n",
        "# Fetch the dataset artifact \n",
        "artifact = run.use_artifact('ninjaturtles/mlops-zoomcamp-wandb/Titanic:v0', type='dataset')\n",
        "artifact_dir = artifact.download()\n"
      ]
    },
    {
      "attachments": {},
      "cell_type": "markdown",
      "metadata": {
        "id": "D4nv2KM0Kzm7"
      },
      "source": [
        "Read the dataset files"
      ]
    },
    {
      "cell_type": "code",
      "execution_count": 4,
      "metadata": {
        "id": "zArBQ7-bKzm7"
      },
      "outputs": [],
      "source": [
        "train_df = pd.read_csv(os.path.join(artifact_dir, \"train.csv\"))\n",
        "test_df = pd.read_csv(os.path.join(artifact_dir, \"test.csv\"))"
      ]
    },
    {
      "cell_type": "code",
      "execution_count": 5,
      "metadata": {
        "id": "Q04MWMd5Kzm8"
      },
      "outputs": [
        {
          "name": "stdout",
          "output_type": "stream",
          "text": [
            "712 179\n"
          ]
        }
      ],
      "source": [
        "num_train_examples = int(0.8 * len(train_df))\n",
        "num_val_examples = len(train_df) - num_train_examples\n",
        "\n",
        "print(num_train_examples, num_val_examples)"
      ]
    },
    {
      "cell_type": "code",
      "execution_count": 9,
      "metadata": {
        "id": "91HnBLUpKzm8"
      },
      "outputs": [],
      "source": [
        "train_df[\"Split\"] = [\"Train\"] * num_train_examples + [\"Validation\"] * num_val_examples\n",
        "train_df.to_csv(\"data/train_new.csv\", encoding='utf-8', index=False)"
      ]
    },
    {
      "cell_type": "code",
      "execution_count": 7,
      "metadata": {},
      "outputs": [
        {
          "data": {
            "text/html": [
              "<div>\n",
              "<style scoped>\n",
              "    .dataframe tbody tr th:only-of-type {\n",
              "        vertical-align: middle;\n",
              "    }\n",
              "\n",
              "    .dataframe tbody tr th {\n",
              "        vertical-align: top;\n",
              "    }\n",
              "\n",
              "    .dataframe thead th {\n",
              "        text-align: right;\n",
              "    }\n",
              "</style>\n",
              "<table border=\"1\" class=\"dataframe\">\n",
              "  <thead>\n",
              "    <tr style=\"text-align: right;\">\n",
              "      <th></th>\n",
              "      <th>PassengerId</th>\n",
              "      <th>Survived</th>\n",
              "      <th>Pclass</th>\n",
              "      <th>Name</th>\n",
              "      <th>Sex</th>\n",
              "      <th>Age</th>\n",
              "      <th>SibSp</th>\n",
              "      <th>Parch</th>\n",
              "      <th>Ticket</th>\n",
              "      <th>Fare</th>\n",
              "      <th>Cabin</th>\n",
              "      <th>Embarked</th>\n",
              "      <th>Split</th>\n",
              "    </tr>\n",
              "  </thead>\n",
              "  <tbody>\n",
              "    <tr>\n",
              "      <th>0</th>\n",
              "      <td>1</td>\n",
              "      <td>0</td>\n",
              "      <td>3</td>\n",
              "      <td>Braund, Mr. Owen Harris</td>\n",
              "      <td>male</td>\n",
              "      <td>22.0</td>\n",
              "      <td>1</td>\n",
              "      <td>0</td>\n",
              "      <td>A/5 21171</td>\n",
              "      <td>7.2500</td>\n",
              "      <td>NaN</td>\n",
              "      <td>S</td>\n",
              "      <td>Train</td>\n",
              "    </tr>\n",
              "    <tr>\n",
              "      <th>1</th>\n",
              "      <td>2</td>\n",
              "      <td>1</td>\n",
              "      <td>1</td>\n",
              "      <td>Cumings, Mrs. John Bradley (Florence Briggs Th...</td>\n",
              "      <td>female</td>\n",
              "      <td>38.0</td>\n",
              "      <td>1</td>\n",
              "      <td>0</td>\n",
              "      <td>PC 17599</td>\n",
              "      <td>71.2833</td>\n",
              "      <td>C85</td>\n",
              "      <td>C</td>\n",
              "      <td>Train</td>\n",
              "    </tr>\n",
              "    <tr>\n",
              "      <th>2</th>\n",
              "      <td>3</td>\n",
              "      <td>1</td>\n",
              "      <td>3</td>\n",
              "      <td>Heikkinen, Miss. Laina</td>\n",
              "      <td>female</td>\n",
              "      <td>26.0</td>\n",
              "      <td>0</td>\n",
              "      <td>0</td>\n",
              "      <td>STON/O2. 3101282</td>\n",
              "      <td>7.9250</td>\n",
              "      <td>NaN</td>\n",
              "      <td>S</td>\n",
              "      <td>Train</td>\n",
              "    </tr>\n",
              "    <tr>\n",
              "      <th>3</th>\n",
              "      <td>4</td>\n",
              "      <td>1</td>\n",
              "      <td>1</td>\n",
              "      <td>Futrelle, Mrs. Jacques Heath (Lily May Peel)</td>\n",
              "      <td>female</td>\n",
              "      <td>35.0</td>\n",
              "      <td>1</td>\n",
              "      <td>0</td>\n",
              "      <td>113803</td>\n",
              "      <td>53.1000</td>\n",
              "      <td>C123</td>\n",
              "      <td>S</td>\n",
              "      <td>Train</td>\n",
              "    </tr>\n",
              "    <tr>\n",
              "      <th>4</th>\n",
              "      <td>5</td>\n",
              "      <td>0</td>\n",
              "      <td>3</td>\n",
              "      <td>Allen, Mr. William Henry</td>\n",
              "      <td>male</td>\n",
              "      <td>35.0</td>\n",
              "      <td>0</td>\n",
              "      <td>0</td>\n",
              "      <td>373450</td>\n",
              "      <td>8.0500</td>\n",
              "      <td>NaN</td>\n",
              "      <td>S</td>\n",
              "      <td>Train</td>\n",
              "    </tr>\n",
              "  </tbody>\n",
              "</table>\n",
              "</div>"
            ],
            "text/plain": [
              "   PassengerId  Survived  Pclass  \\\n",
              "0            1         0       3   \n",
              "1            2         1       1   \n",
              "2            3         1       3   \n",
              "3            4         1       1   \n",
              "4            5         0       3   \n",
              "\n",
              "                                                Name     Sex   Age  SibSp  \\\n",
              "0                            Braund, Mr. Owen Harris    male  22.0      1   \n",
              "1  Cumings, Mrs. John Bradley (Florence Briggs Th...  female  38.0      1   \n",
              "2                             Heikkinen, Miss. Laina  female  26.0      0   \n",
              "3       Futrelle, Mrs. Jacques Heath (Lily May Peel)  female  35.0      1   \n",
              "4                           Allen, Mr. William Henry    male  35.0      0   \n",
              "\n",
              "   Parch            Ticket     Fare Cabin Embarked  Split  \n",
              "0      0         A/5 21171   7.2500   NaN        S  Train  \n",
              "1      0          PC 17599  71.2833   C85        C  Train  \n",
              "2      0  STON/O2. 3101282   7.9250   NaN        S  Train  \n",
              "3      0            113803  53.1000  C123        S  Train  \n",
              "4      0            373450   8.0500   NaN        S  Train  "
            ]
          },
          "execution_count": 7,
          "metadata": {},
          "output_type": "execute_result"
        }
      ],
      "source": [
        "train_df.head()"
      ]
    },
    {
      "cell_type": "code",
      "execution_count": 10,
      "metadata": {
        "id": "qHzEdGgOKzm8"
      },
      "outputs": [
        {
          "name": "stderr",
          "output_type": "stream",
          "text": [
            "\u001b[34m\u001b[1mwandb\u001b[0m: Adding directory to artifact (./data)... Done. 0.0s\n"
          ]
        },
        {
          "data": {
            "text/html": [
              "Waiting for W&B process to finish... <strong style=\"color:green\">(success).</strong>"
            ],
            "text/plain": [
              "<IPython.core.display.HTML object>"
            ]
          },
          "metadata": {},
          "output_type": "display_data"
        },
        {
          "data": {
            "text/html": [
              " View run <strong style=\"color:#cdcd00\">hearty-eon-8</strong> at: <a href='https://wandb.ai/ninjaturtles/mlops-zoomcamp-wandb/runs/zfmfyurp' target=\"_blank\">https://wandb.ai/ninjaturtles/mlops-zoomcamp-wandb/runs/zfmfyurp</a><br/>Synced 6 W&B file(s), 0 media file(s), 3 artifact file(s) and 0 other file(s)"
            ],
            "text/plain": [
              "<IPython.core.display.HTML object>"
            ]
          },
          "metadata": {},
          "output_type": "display_data"
        },
        {
          "data": {
            "text/html": [
              "Find logs at: <code>./wandb/run-20230604_012513-zfmfyurp/logs</code>"
            ],
            "text/plain": [
              "<IPython.core.display.HTML object>"
            ]
          },
          "metadata": {},
          "output_type": "display_data"
        }
      ],
      "source": [
        "# Log the `data` directory as an artifact\n",
        "artifact = wandb.Artifact('Titanic', type='dataset', metadata={\"Source\": \"https://www.kaggle.com/competitions/titanic/data\"})\n",
        "artifact.add_dir('data')\n",
        "wandb.log_artifact(artifact)\n",
        "\n",
        "# End the WandB Run\n",
        "wandb.finish()"
      ]
    },
    {
      "attachments": {},
      "cell_type": "markdown",
      "metadata": {
        "id": "uFjs2OdcKzm9"
      },
      "source": [
        "## Explore the Dataset"
      ]
    },
    {
      "cell_type": "code",
      "execution_count": 3,
      "metadata": {
        "id": "3F6lkIDjKzm9"
      },
      "outputs": [
        {
          "name": "stderr",
          "output_type": "stream",
          "text": [
            "Failed to detect the name of this notebook, you can set it manually with the WANDB_NOTEBOOK_NAME environment variable to enable code saving.\n",
            "\u001b[34m\u001b[1mwandb\u001b[0m: Currently logged in as: \u001b[33mmichael945angelo\u001b[0m (\u001b[33mninjaturtles\u001b[0m). Use \u001b[1m`wandb login --relogin`\u001b[0m to force relogin\n"
          ]
        },
        {
          "data": {
            "text/html": [
              "Tracking run with wandb version 0.15.3"
            ],
            "text/plain": [
              "<IPython.core.display.HTML object>"
            ]
          },
          "metadata": {},
          "output_type": "display_data"
        },
        {
          "data": {
            "text/html": [
              "Run data is saved locally in <code>/home/singh/mlops-zoomcamp-2023/02-experiment-tracking/WandbTraining/wandb/run-20230604_014356-fwyughi2</code>"
            ],
            "text/plain": [
              "<IPython.core.display.HTML object>"
            ]
          },
          "metadata": {},
          "output_type": "display_data"
        },
        {
          "data": {
            "text/html": [
              "Syncing run <strong><a href='https://wandb.ai/ninjaturtles/mlops-zoomcamp-wandb/runs/fwyughi2' target=\"_blank\">glad-frost-10</a></strong> to <a href='https://wandb.ai/ninjaturtles/mlops-zoomcamp-wandb' target=\"_blank\">Weights & Biases</a> (<a href='https://wandb.me/run' target=\"_blank\">docs</a>)<br/>"
            ],
            "text/plain": [
              "<IPython.core.display.HTML object>"
            ]
          },
          "metadata": {},
          "output_type": "display_data"
        },
        {
          "data": {
            "text/html": [
              " View project at <a href='https://wandb.ai/ninjaturtles/mlops-zoomcamp-wandb' target=\"_blank\">https://wandb.ai/ninjaturtles/mlops-zoomcamp-wandb</a>"
            ],
            "text/plain": [
              "<IPython.core.display.HTML object>"
            ]
          },
          "metadata": {},
          "output_type": "display_data"
        },
        {
          "data": {
            "text/html": [
              " View run at <a href='https://wandb.ai/ninjaturtles/mlops-zoomcamp-wandb/runs/fwyughi2' target=\"_blank\">https://wandb.ai/ninjaturtles/mlops-zoomcamp-wandb/runs/fwyughi2</a>"
            ],
            "text/plain": [
              "<IPython.core.display.HTML object>"
            ]
          },
          "metadata": {},
          "output_type": "display_data"
        },
        {
          "name": "stderr",
          "output_type": "stream",
          "text": [
            "\u001b[34m\u001b[1mwandb\u001b[0m:   3 of 3 files downloaded.  \n"
          ]
        }
      ],
      "source": [
        "# Initialize a WandB Run\n",
        "run = wandb.init(project=\"mlops-zoomcamp-wandb\", job_type=\"explore_data\")\n",
        "\n",
        "# Fetch the latest version of the dataset artifact \n",
        "artifact = run.use_artifact('ninjaturtles/mlops-zoomcamp-wandb/Titanic:v1', type='dataset')\n",
        "artifact_dir = artifact.download()\n",
        "\n",
        "# Read the files\n",
        "train_val_df = pd.read_csv(os.path.join(artifact_dir, \"train_new.csv\"))\n",
        "test_df = pd.read_csv(os.path.join(artifact_dir, \"test.csv\"))\n"
      ]
    },
    {
      "cell_type": "code",
      "execution_count": 4,
      "metadata": {
        "id": "U-KUDSKCKzm9"
      },
      "outputs": [
        {
          "data": {
            "text/html": [
              "Waiting for W&B process to finish... <strong style=\"color:green\">(success).</strong>"
            ],
            "text/plain": [
              "<IPython.core.display.HTML object>"
            ]
          },
          "metadata": {},
          "output_type": "display_data"
        },
        {
          "data": {
            "text/html": [
              " View run <strong style=\"color:#cdcd00\">glad-frost-10</strong> at: <a href='https://wandb.ai/ninjaturtles/mlops-zoomcamp-wandb/runs/fwyughi2' target=\"_blank\">https://wandb.ai/ninjaturtles/mlops-zoomcamp-wandb/runs/fwyughi2</a><br/>Synced 6 W&B file(s), 2 media file(s), 2 artifact file(s) and 0 other file(s)"
            ],
            "text/plain": [
              "<IPython.core.display.HTML object>"
            ]
          },
          "metadata": {},
          "output_type": "display_data"
        },
        {
          "data": {
            "text/html": [
              "Find logs at: <code>./wandb/run-20230604_014356-fwyughi2/logs</code>"
            ],
            "text/plain": [
              "<IPython.core.display.HTML object>"
            ]
          },
          "metadata": {},
          "output_type": "display_data"
        }
      ],
      "source": [
        "# Create tables corresponding to datasets\n",
        "train_val_table = wandb.Table(dataframe=train_val_df)\n",
        "test_table = wandb.Table(dataframe=test_df)\n",
        "\n",
        "# Log the tables to Weights & Biases\n",
        "wandb.log({\n",
        "    \"Train-Val-Table\": train_val_table,\n",
        "    \"Test-Table\": test_table\n",
        "})\n",
        "\n",
        "# End the WandB Run\n",
        "wandb.finish()"
      ]
    },
    {
      "attachments": {},
      "cell_type": "markdown",
      "metadata": {
        "id": "Hf91OsPFKzm9"
      },
      "source": [
        "## Fit a Baseline Model"
      ]
    },
    {
      "cell_type": "code",
      "execution_count": 15,
      "metadata": {
        "id": "PBRXGIFIKzm9"
      },
      "outputs": [
        {
          "data": {
            "text/html": [
              "Tracking run with wandb version 0.15.3"
            ],
            "text/plain": [
              "<IPython.core.display.HTML object>"
            ]
          },
          "metadata": {},
          "output_type": "display_data"
        },
        {
          "data": {
            "text/html": [
              "Run data is saved locally in <code>/home/singh/mlops-zoomcamp-2023/02-experiment-tracking/WandbTraining/wandb/run-20230604_021313-otsnsiqm</code>"
            ],
            "text/plain": [
              "<IPython.core.display.HTML object>"
            ]
          },
          "metadata": {},
          "output_type": "display_data"
        },
        {
          "data": {
            "text/html": [
              "Syncing run <strong><a href='https://wandb.ai/ninjaturtles/mlops-zoomcamp-wandb/runs/otsnsiqm' target=\"_blank\">baseline_experiment-1</a></strong> to <a href='https://wandb.ai/ninjaturtles/mlops-zoomcamp-wandb' target=\"_blank\">Weights & Biases</a> (<a href='https://wandb.me/run' target=\"_blank\">docs</a>)<br/>"
            ],
            "text/plain": [
              "<IPython.core.display.HTML object>"
            ]
          },
          "metadata": {},
          "output_type": "display_data"
        },
        {
          "data": {
            "text/html": [
              " View project at <a href='https://wandb.ai/ninjaturtles/mlops-zoomcamp-wandb' target=\"_blank\">https://wandb.ai/ninjaturtles/mlops-zoomcamp-wandb</a>"
            ],
            "text/plain": [
              "<IPython.core.display.HTML object>"
            ]
          },
          "metadata": {},
          "output_type": "display_data"
        },
        {
          "data": {
            "text/html": [
              " View run at <a href='https://wandb.ai/ninjaturtles/mlops-zoomcamp-wandb/runs/otsnsiqm' target=\"_blank\">https://wandb.ai/ninjaturtles/mlops-zoomcamp-wandb/runs/otsnsiqm</a>"
            ],
            "text/plain": [
              "<IPython.core.display.HTML object>"
            ]
          },
          "metadata": {},
          "output_type": "display_data"
        },
        {
          "name": "stderr",
          "output_type": "stream",
          "text": [
            "\u001b[34m\u001b[1mwandb\u001b[0m:   3 of 3 files downloaded.  \n"
          ]
        }
      ],
      "source": [
        "# Initialize a WandB Run\n",
        "wandb.init(project=\"mlops-zoomcamp-wandb\", name=\"baseline_experiment-1\", job_type=\"train\")\n",
        "\n",
        "# Fetch the latest version of the dataset artifact \n",
        "artifact = wandb.use_artifact('ninjaturtles/mlops-zoomcamp-wandb/Titanic:v1', type='dataset')\n",
        "artifact_dir = artifact.download()\n",
        "\n",
        "# Read the files\n",
        "train_val_df = pd.read_csv(os.path.join(artifact_dir, \"train_new.csv\"))\n",
        "test_df = pd.read_csv(os.path.join(artifact_dir, \"test.csv\"))"
      ]
    },
    {
      "cell_type": "code",
      "execution_count": 16,
      "metadata": {
        "id": "E0UB9W4cKzm-"
      },
      "outputs": [],
      "source": [
        "features = [\"Pclass\", \"Sex\", \"SibSp\", \"Parch\"]\n",
        "X_train = pd.get_dummies(train_val_df[features][train_val_df[\"Split\"] == \"Train\"])\n",
        "X_val = pd.get_dummies(train_val_df[features][train_val_df[\"Split\"] == \"Validation\"])\n",
        "y_train = train_val_df[\"Survived\"][train_val_df[\"Split\"] == \"Train\"]\n",
        "y_val = train_val_df[\"Survived\"][train_val_df[\"Split\"] == \"Validation\"]"
      ]
    },
    {
      "cell_type": "code",
      "execution_count": 17,
      "metadata": {
        "id": "qIvBNoDZKzm-"
      },
      "outputs": [],
      "source": [
        "model_params = {\"n_estimators\": 100, \"max_depth\": 15, \"random_state\": 1}\n",
        "wandb.config = model_params\n",
        "\n",
        "model = RandomForestClassifier(**model_params)\n",
        "model.fit(X_train, y_train)\n",
        "\n",
        "y_pred_train = model.predict(X_train)\n",
        "y_probas_train = model.predict_proba(X_train)\n",
        "y_pred_val = model.predict(X_val)\n",
        "y_probas_val = model.predict_proba(X_val)"
      ]
    },
    {
      "cell_type": "code",
      "execution_count": 18,
      "metadata": {
        "id": "5DEe9D08Kzm-"
      },
      "outputs": [],
      "source": [
        "wandb.log({\n",
        "    \"Train/Accuracy\": accuracy_score(y_train, y_pred_train),\n",
        "    \"Validation/Accuracy\": accuracy_score(y_val, y_pred_val),\n",
        "    \"Train/Presicion\": precision_score(y_train, y_pred_train),\n",
        "    \"Validation/Presicion\": precision_score(y_val, y_pred_val),\n",
        "    \"Train/Recall\": recall_score(y_train, y_pred_train),\n",
        "    \"Validation/Recall\": recall_score(y_val, y_pred_val),\n",
        "    \"Train/F1-Score\": f1_score(y_train, y_pred_train),\n",
        "    \"Validation/F1-Score\": f1_score(y_val, y_pred_val),\n",
        "})"
      ]
    },
    {
      "cell_type": "code",
      "execution_count": 19,
      "metadata": {
        "id": "-aNQMG8UKzm-"
      },
      "outputs": [
        {
          "name": "stderr",
          "output_type": "stream",
          "text": [
            "/home/singh/anaconda3/envs/wandb_env/lib/python3.10/site-packages/sklearn/base.py:439: UserWarning: X does not have valid feature names, but RandomForestClassifier was fitted with feature names\n",
            "  warnings.warn(\n"
          ]
        }
      ],
      "source": [
        "label_names = [\"Not-Survived\", \"Survived\"]\n",
        "\n",
        "wandb.sklearn.plot_class_proportions(y_train, y_val, label_names)\n",
        "wandb.sklearn.plot_summary_metrics(model, X_train, y_train, X_val, y_val)\n",
        "wandb.sklearn.plot_roc(y_val, y_probas_val, labels=label_names)\n",
        "wandb.sklearn.plot_precision_recall(y_val, y_probas_val, labels=label_names)\n",
        "wandb.sklearn.plot_confusion_matrix(y_val, y_pred_val, labels=label_names)"
      ]
    },
    {
      "cell_type": "code",
      "execution_count": 20,
      "metadata": {
        "id": "fWa7pqXeKzm-"
      },
      "outputs": [
        {
          "data": {
            "text/html": [
              "Waiting for W&B process to finish... <strong style=\"color:green\">(success).</strong>"
            ],
            "text/plain": [
              "<IPython.core.display.HTML object>"
            ]
          },
          "metadata": {},
          "output_type": "display_data"
        },
        {
          "data": {
            "text/html": [
              "<style>\n",
              "    table.wandb td:nth-child(1) { padding: 0 10px; text-align: left ; width: auto;} td:nth-child(2) {text-align: left ; width: 100%}\n",
              "    .wandb-row { display: flex; flex-direction: row; flex-wrap: wrap; justify-content: flex-start; width: 100% }\n",
              "    .wandb-col { display: flex; flex-direction: column; flex-basis: 100%; flex: 1; padding: 10px; }\n",
              "    </style>\n",
              "<div class=\"wandb-row\"><div class=\"wandb-col\"><h3>Run history:</h3><br/><table class=\"wandb\"><tr><td>Train/Accuracy</td><td>▁</td></tr><tr><td>Train/F1-Score</td><td>▁</td></tr><tr><td>Train/Presicion</td><td>▁</td></tr><tr><td>Train/Recall</td><td>▁</td></tr><tr><td>Validation/Accuracy</td><td>▁</td></tr><tr><td>Validation/F1-Score</td><td>▁</td></tr><tr><td>Validation/Presicion</td><td>▁</td></tr><tr><td>Validation/Recall</td><td>▁</td></tr></table><br/></div><div class=\"wandb-col\"><h3>Run summary:</h3><br/><table class=\"wandb\"><tr><td>Train/Accuracy</td><td>0.8118</td></tr><tr><td>Train/F1-Score</td><td>0.73307</td></tr><tr><td>Train/Presicion</td><td>0.82143</td></tr><tr><td>Train/Recall</td><td>0.66187</td></tr><tr><td>Validation/Accuracy</td><td>0.82123</td></tr><tr><td>Validation/F1-Score</td><td>0.72881</td></tr><tr><td>Validation/Presicion</td><td>0.7963</td></tr><tr><td>Validation/Recall</td><td>0.67188</td></tr></table><br/></div></div>"
            ],
            "text/plain": [
              "<IPython.core.display.HTML object>"
            ]
          },
          "metadata": {},
          "output_type": "display_data"
        },
        {
          "data": {
            "text/html": [
              " View run <strong style=\"color:#cdcd00\">baseline_experiment-1</strong> at: <a href='https://wandb.ai/ninjaturtles/mlops-zoomcamp-wandb/runs/otsnsiqm' target=\"_blank\">https://wandb.ai/ninjaturtles/mlops-zoomcamp-wandb/runs/otsnsiqm</a><br/>Synced 6 W&B file(s), 5 media file(s), 6 artifact file(s) and 0 other file(s)"
            ],
            "text/plain": [
              "<IPython.core.display.HTML object>"
            ]
          },
          "metadata": {},
          "output_type": "display_data"
        },
        {
          "data": {
            "text/html": [
              "Find logs at: <code>./wandb/run-20230604_021313-otsnsiqm/logs</code>"
            ],
            "text/plain": [
              "<IPython.core.display.HTML object>"
            ]
          },
          "metadata": {},
          "output_type": "display_data"
        }
      ],
      "source": [
        "# Save your model\n",
        "with open(\"random_forest_classifier.pkl\", \"wb\") as f:\n",
        "    pickle.dump(model, f)\n",
        "\n",
        "# Log your model as a versioned file to Weights & Biases Artifact\n",
        "artifact = wandb.Artifact(f\"titanic-random-forest-model\", type=\"model\")\n",
        "artifact.add_file(\"random_forest_classifier.pkl\")\n",
        "wandb.log_artifact(artifact)\n",
        "\n",
        "\n",
        "# End the WandB Run\n",
        "wandb.finish()"
      ]
    }
  ],
  "metadata": {
    "colab": {
      "provenance": []
    },
    "kernelspec": {
      "display_name": "Python 3",
      "language": "python",
      "name": "python3"
    },
    "language_info": {
      "codemirror_mode": {
        "name": "ipython",
        "version": 3
      },
      "file_extension": ".py",
      "mimetype": "text/x-python",
      "name": "python",
      "nbconvert_exporter": "python",
      "pygments_lexer": "ipython3",
      "version": "3.10.11"
    },
    "orig_nbformat": 4
  },
  "nbformat": 4,
  "nbformat_minor": 0
}
